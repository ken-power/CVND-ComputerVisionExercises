{
 "cells": [
  {
   "cell_type": "markdown",
   "metadata": {},
   "source": [
    "# HSV Color Space, Balloons"
   ]
  },
  {
   "cell_type": "markdown",
   "metadata": {},
   "source": [
    "### Import resources and display image"
   ]
  },
  {
   "cell_type": "code",
   "execution_count": null,
   "metadata": {},
   "outputs": [],
   "source": [
    "import numpy as np\n",
    "import matplotlib.pyplot as plt\n",
    "import cv2\n"
   ]
  },
  {
   "cell_type": "code",
   "execution_count": null,
   "metadata": {
    "scrolled": true
   },
   "outputs": [],
   "source": [
    "%matplotlib inline\n",
    "\n",
    "# Read in the image\n",
    "image = cv2.imread('images/water_balloons.jpg')\n",
    "\n",
    "# Make a copy of the image\n",
    "image_copy = np.copy(image)\n",
    "\n",
    "# Change color to RGB (from BGR)\n",
    "image = cv2.cvtColor(image_copy, cv2.COLOR_BGR2RGB)\n",
    "\n",
    "plt.imshow(image)"
   ]
  },
  {
   "cell_type": "markdown",
   "metadata": {},
   "source": [
    "### Plot color channels"
   ]
  },
  {
   "cell_type": "code",
   "execution_count": null,
   "metadata": {},
   "outputs": [],
   "source": [
    "# RGB channels\n",
    "r = image[:,:,0]\n",
    "g = image[:,:,1]\n",
    "b = image[:,:,2]\n",
    "\n",
    "f, (ax1, ax2, ax3) = plt.subplots(1, 3, figsize=(20,10))\n",
    "\n",
    "ax1.set_title('Red')\n",
    "ax1.imshow(r, cmap='gray')\n",
    "\n",
    "ax2.set_title('Green')\n",
    "ax2.imshow(g, cmap='gray')\n",
    "\n",
    "ax3.set_title('Blue')\n",
    "ax3.imshow(b, cmap='gray')\n"
   ]
  },
  {
   "cell_type": "code",
   "execution_count": null,
   "metadata": {},
   "outputs": [],
   "source": [
    "# Convert from RGB to HSV\n",
    "hsv = cv2.cvtColor(image, cv2.COLOR_RGB2HSV)\n",
    "\n",
    "# HSV channels\n",
    "h = hsv[:,:,0]\n",
    "s = hsv[:,:,1]\n",
    "v = hsv[:,:,2]\n",
    "\n",
    "f, (ax1, ax2, ax3) = plt.subplots(1, 3, figsize=(20,10))\n",
    "\n",
    "ax1.set_title('Hue')\n",
    "ax1.imshow(h, cmap='gray')\n",
    "\n",
    "ax2.set_title('Saturation')\n",
    "ax2.imshow(s, cmap='gray')\n",
    "\n",
    "ax3.set_title('Value')\n",
    "ax3.imshow(v, cmap='gray')\n"
   ]
  },
  {
   "cell_type": "markdown",
   "metadata": {},
   "source": [
    "### Define pink and hue selection thresholds"
   ]
  },
  {
   "cell_type": "code",
   "execution_count": null,
   "metadata": {
    "collapsed": true
   },
   "outputs": [],
   "source": [
    "# Define our color selection criteria in HSV values\n",
    "lower_hue = np.array([160,0,0]) \n",
    "upper_hue = np.array([180,255,255])\n"
   ]
  },
  {
   "cell_type": "code",
   "execution_count": null,
   "metadata": {
    "collapsed": true
   },
   "outputs": [],
   "source": [
    "# Define our color selection criteria in RGB values\n",
    "lower_pink = np.array([180,0,100]) \n",
    "upper_pink = np.array([255,255,230])"
   ]
  },
  {
   "cell_type": "markdown",
   "metadata": {},
   "source": [
    "### Mask the image "
   ]
  },
  {
   "cell_type": "code",
   "execution_count": null,
   "metadata": {},
   "outputs": [],
   "source": [
    "# Define the masked area in RGB space\n",
    "mask_rgb = cv2.inRange(image, lower_pink, upper_pink)\n",
    "\n",
    "# mask the image\n",
    "masked_image = np.copy(image)\n",
    "masked_image[mask_rgb==0] = [0,0,0]\n",
    "\n",
    "# Vizualize the mask\n",
    "plt.imshow(masked_image)"
   ]
  },
  {
   "cell_type": "code",
   "execution_count": null,
   "metadata": {},
   "outputs": [],
   "source": [
    "# Now try HSV!\n",
    "\n",
    "# Define the masked area in HSV space\n",
    "mask_hsv = cv2.inRange(hsv, lower_hue, upper_hue)\n",
    "\n",
    "# mask the image\n",
    "masked_image = np.copy(image)\n",
    "masked_image[mask_hsv==0] = [0,0,0]\n",
    "\n",
    "# Vizualize the mask\n",
    "plt.imshow(masked_image)"
   ]
  }
 ],
 "metadata": {
  "anaconda-cloud": {},
  "kernelspec": {
   "display_name": "Python 3",
   "language": "python",
   "name": "python3"
  },
  "language_info": {
   "codemirror_mode": {
    "name": "ipython",
    "version": 3
   },
   "file_extension": ".py",
   "mimetype": "text/x-python",
   "name": "python",
   "nbconvert_exporter": "python",
   "pygments_lexer": "ipython3",
   "version": "3.6.3"
  }
 },
 "nbformat": 4,
 "nbformat_minor": 1
}
