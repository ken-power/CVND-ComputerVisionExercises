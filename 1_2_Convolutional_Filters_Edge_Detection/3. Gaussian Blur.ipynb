{
 "cells": [
  {
   "cell_type": "markdown",
   "metadata": {},
   "source": [
    "# Gaussian Blur, Medical Images"
   ]
  },
  {
   "cell_type": "markdown",
   "metadata": {},
   "source": [
    "### Import resources and display image"
   ]
  },
  {
   "cell_type": "code",
   "execution_count": null,
   "metadata": {},
   "outputs": [],
   "source": [
    "import numpy as np\n",
    "import matplotlib.pyplot as plt\n",
    "import cv2\n",
    "\n",
    "%matplotlib inline\n",
    "\n",
    "# Read in the image\n",
    "image = cv2.imread('images/brain_MR.jpg')\n",
    "\n",
    "# Make a copy of the image\n",
    "image_copy = np.copy(image)\n",
    "\n",
    "# Change color to RGB (from BGR)\n",
    "image_copy = cv2.cvtColor(image_copy, cv2.COLOR_BGR2RGB)\n",
    "\n",
    "plt.imshow(image_copy)"
   ]
  },
  {
   "cell_type": "markdown",
   "metadata": {},
   "source": [
    "### Gaussian blur the image"
   ]
  },
  {
   "cell_type": "code",
   "execution_count": null,
   "metadata": {},
   "outputs": [],
   "source": [
    "# Convert to grayscale for filtering\n",
    "gray = cv2.cvtColor(image_copy, cv2.COLOR_RGB2GRAY)\n",
    "\n",
    "# Create a Gaussian blurred image\n",
    "gray_blur = cv2.GaussianBlur(gray, (9, 9), 0)\n",
    "\n",
    "f, (ax1, ax2) = plt.subplots(1, 2, figsize=(20,10))\n",
    "\n",
    "ax1.set_title('original gray')\n",
    "ax1.imshow(gray, cmap='gray')\n",
    "\n",
    "ax2.set_title('blurred image')\n",
    "ax2.imshow(gray_blur, cmap='gray')"
   ]
  },
  {
   "cell_type": "markdown",
   "metadata": {},
   "source": [
    "### Test performance with a high-pass filter"
   ]
  },
  {
   "cell_type": "code",
   "execution_count": null,
   "metadata": {},
   "outputs": [],
   "source": [
    "# High-pass filter \n",
    "\n",
    "# 3x3 sobel filters for edge detection\n",
    "sobel_x = np.array([[ -1, 0, 1], \n",
    "                   [ -2, 0, 2], \n",
    "                   [ -1, 0, 1]])\n",
    "\n",
    "\n",
    "sobel_y = np.array([[ -1, -2, -1], \n",
    "                   [ 0, 0, 0], \n",
    "                   [ 1, 2, 1]])\n",
    "\n",
    "\n",
    "# Filter the orginal and blurred grayscale images using filter2D\n",
    "filtered = cv2.filter2D(gray, -1, sobel_x)\n",
    "\n",
    "filtered_blurred = cv2.filter2D(gray_blur, -1, sobel_y)\n",
    "f, (ax1, ax2) = plt.subplots(1, 2, figsize=(20,10))\n",
    "\n",
    "ax1.set_title('original gray')\n",
    "ax1.imshow(filtered, cmap='gray')\n",
    "\n",
    "ax2.set_title('blurred image')\n",
    "ax2.imshow(filtered_blurred, cmap='gray')"
   ]
  },
  {
   "cell_type": "code",
   "execution_count": null,
   "metadata": {},
   "outputs": [],
   "source": [
    "# Create threshold that sets all the filtered pixels to white\n",
    "# Above a certain threshold\n",
    "\n",
    "retval, binary_image = cv2.threshold(filtered_blurred, 50, 255, cv2.THRESH_BINARY)\n",
    "\n",
    "plt.imshow(binary_image, cmap='gray')\n"
   ]
  }
 ],
 "metadata": {
  "kernelspec": {
   "display_name": "Python 3",
   "language": "python",
   "name": "python3"
  },
  "language_info": {
   "codemirror_mode": {
    "name": "ipython",
    "version": 3
   },
   "file_extension": ".py",
   "mimetype": "text/x-python",
   "name": "python",
   "nbconvert_exporter": "python",
   "pygments_lexer": "ipython3",
   "version": "3.6.3"
  }
 },
 "nbformat": 4,
 "nbformat_minor": 1
}
