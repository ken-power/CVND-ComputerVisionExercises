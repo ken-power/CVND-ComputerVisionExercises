{
 "cells": [
  {
   "cell_type": "markdown",
   "metadata": {},
   "source": [
    "## Fourier Transforms\n",
    "\n",
    "The frequency components of an image can be displayed after doing a Fourier Transform (FT). An FT looks at the components of an image (edges that are high-frequency, and areas of smooth color as low-frequency), and plots the frequencies that occur as points in spectrum.\n",
    "\n",
    "In fact, an FT treats patterns of intensity in an image as sine waves with a particular frequency, and you can look at an interesting visualization of these sine wave components [on this page](https://plus.maths.org/content/fourier-transforms-images).\n",
    "\n",
    "In this notebook, we'll first look at a few simple image patterns to build up an idea of what image frequency components look like, and then transform a more complex image to see what it looks like in the frequency domain."
   ]
  },
  {
   "cell_type": "code",
   "execution_count": null,
   "metadata": {},
   "outputs": [],
   "source": [
    "import numpy as np\n",
    "import matplotlib.pyplot as plt\n",
    "import cv2\n",
    "\n",
    "%matplotlib inline\n",
    "\n",
    "# Read in the images\n",
    "image_stripes = cv2.imread('images/stripes.jpg')\n",
    "# Change color to RGB (from BGR)\n",
    "image_stripes = cv2.cvtColor(image_stripes, cv2.COLOR_BGR2RGB)\n",
    "\n",
    "# Read in the images\n",
    "image_solid = cv2.imread('images/pink_solid.jpg')\n",
    "# Change color to RGB (from BGR)\n",
    "image_solid = cv2.cvtColor(image_solid, cv2.COLOR_BGR2RGB)\n",
    "\n",
    "\n",
    "# Display the images\n",
    "f, (ax1,ax2) = plt.subplots(1, 2, figsize=(10,5))\n",
    "\n",
    "ax1.imshow(image_stripes)\n",
    "ax2.imshow(image_solid)"
   ]
  },
  {
   "cell_type": "code",
   "execution_count": null,
   "metadata": {},
   "outputs": [],
   "source": [
    "# convert to grayscale to focus on the intensity patterns in the image\n",
    "gray_stripes = cv2.cvtColor(image_stripes, cv2.COLOR_RGB2GRAY)\n",
    "gray_solid = cv2.cvtColor(image_solid, cv2.COLOR_RGB2GRAY)\n",
    "\n",
    "# normalize the image color values from a range of [0,255] to [0,1] for further processing\n",
    "norm_stripes = gray_stripes/255.0\n",
    "norm_solid = gray_solid/255.0\n",
    "\n",
    "# perform a fast fourier transform and create a scaled, frequency transform image\n",
    "def ft_image(norm_image):\n",
    "    '''This function takes in a normalized, grayscale image\n",
    "       and returns a frequency spectrum transform of that image. '''\n",
    "    f = np.fft.fft2(norm_image)\n",
    "    fshift = np.fft.fftshift(f)\n",
    "    frequency_tx = 20*np.log(np.abs(fshift))\n",
    "    \n",
    "    return frequency_tx\n"
   ]
  },
  {
   "cell_type": "code",
   "execution_count": null,
   "metadata": {},
   "outputs": [],
   "source": [
    "# Call the function on the normalized images\n",
    "# and display the transforms\n",
    "f_stripes = ft_image(norm_stripes)\n",
    "f_solid = ft_image(norm_solid)\n",
    "\n",
    "# display the images\n",
    "# original images to the left of their frequency transform\n",
    "f, (ax1,ax2,ax3,ax4) = plt.subplots(1, 4, figsize=(20,10))\n",
    "\n",
    "ax1.set_title('original image')\n",
    "ax1.imshow(image_stripes)\n",
    "ax2.set_title('frequency transform image')\n",
    "ax2.imshow(f_stripes, cmap='gray')\n",
    "\n",
    "ax3.set_title('original image')\n",
    "ax3.imshow(image_solid)\n",
    "ax4.set_title('frequency transform image')\n",
    "ax4.imshow(f_solid, cmap='gray')\n"
   ]
  },
  {
   "cell_type": "markdown",
   "metadata": {},
   "source": [
    "Low frequencies are at the center of the frequency transform image. \n",
    "\n",
    "The transform images for these example show that the solid image has most low-frequency components (as seen by the center bright spot). \n",
    "\n",
    "The stripes tranform image contains low-frequencies for the areas of white and black color and high frequencies for the edges in between those colors. The stripes transform image also tells us that there is one dominating direction for these frequencies; vertical stripes are represented by a horizontal line passing through the center of the frequency transform image.\n",
    "\n",
    "Next, let's see what this looks like applied to a real-world image."
   ]
  },
  {
   "cell_type": "code",
   "execution_count": null,
   "metadata": {},
   "outputs": [],
   "source": [
    "# Read in an image\n",
    "image = cv2.imread('images/birds.jpg')\n",
    "# Change color to RGB (from BGR)\n",
    "image = cv2.cvtColor(image, cv2.COLOR_BGR2RGB)\n",
    "\n",
    "# convert to grayscale\n",
    "gray = cv2.cvtColor(image, cv2.COLOR_RGB2GRAY)\n",
    "# normalize the image\n",
    "norm_image = gray/255.0\n",
    "\n",
    "f_image = ft_image(norm_image)\n",
    "\n",
    "# Display the images\n",
    "f, (ax1,ax2) = plt.subplots(1, 2, figsize=(20,10))\n",
    "\n",
    "ax1.imshow(image)\n",
    "ax2.imshow(f_image, cmap='gray')"
   ]
  },
  {
   "cell_type": "markdown",
   "metadata": {},
   "source": [
    "Notice that this image has components of all frequencies. You can see a bright spot in the center of the transform image, which tells us that a large portion of the image is low-frequency; this makes sense since the body of the birds and background are solid colors. The transform image also tells us that there are **two** dominating directions for these frequencies; vertical edges (from the edges of birds) are represented by a horizontal line passing through the center of the frequency transform image, and horizontal edges (from the branch and tops of the birds' heads) are represented by a vertical line passing through the center."
   ]
  }
 ],
 "metadata": {
  "kernelspec": {
   "display_name": "Python 3",
   "language": "python",
   "name": "python3"
  },
  "language_info": {
   "codemirror_mode": {
    "name": "ipython",
    "version": 3
   },
   "file_extension": ".py",
   "mimetype": "text/x-python",
   "name": "python",
   "nbconvert_exporter": "python",
   "pygments_lexer": "ipython3",
   "version": "3.6.3"
  }
 },
 "nbformat": 4,
 "nbformat_minor": 2
}
