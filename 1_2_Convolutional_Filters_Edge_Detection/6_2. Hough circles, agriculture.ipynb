{
 "cells": [
  {
   "cell_type": "markdown",
   "metadata": {},
   "source": [
    "## Hough Circle Detection"
   ]
  },
  {
   "cell_type": "code",
   "execution_count": null,
   "metadata": {},
   "outputs": [],
   "source": [
    "import numpy as np\n",
    "import matplotlib.pyplot as plt\n",
    "import cv2\n",
    "\n",
    "%matplotlib inline"
   ]
  },
  {
   "cell_type": "code",
   "execution_count": null,
   "metadata": {},
   "outputs": [],
   "source": [
    "# Read in the image\n",
    "image = cv2.imread('images/round_farms.jpg')\n",
    "\n",
    "# Change color to RGB (from BGR)\n",
    "image = cv2.cvtColor(image, cv2.COLOR_BGR2RGB)\n",
    "\n",
    "plt.imshow(image)"
   ]
  },
  {
   "cell_type": "code",
   "execution_count": null,
   "metadata": {},
   "outputs": [],
   "source": [
    "# Gray and blur\n",
    "gray = cv2.cvtColor(image,cv2.COLOR_BGR2GRAY)\n",
    "\n",
    "gray_blur = cv2.GaussianBlur(gray, (3, 3), 0)\n",
    "\n",
    "plt.imshow(gray_blur, cmap='gray')\n"
   ]
  },
  {
   "cell_type": "markdown",
   "metadata": {},
   "source": [
    "### HoughCircles function\n",
    "\n",
    "`HoughCircles` takes in a few things as its arguments:\n",
    "* an input image, detection method (Hough gradient), resolution factor between the detection and image (1),\n",
    "* minDist - the minimum distance between circles\n",
    "* param1 - the higher value for performing Canny edge detection\n",
    "* param2 - threshold for circle detection, a smaller value --> more circles will be detected\n",
    "* min/max radius for detected circles\n",
    "\n",
    "The variable you should change will be the last two: min/max radius for detected circles. Take a look at the image above and estimate how many pixels the average circle is in diameter; use this estimate to provide values for min/max arguments. You may also want to see what happens if you change minDist."
   ]
  },
  {
   "cell_type": "code",
   "execution_count": null,
   "metadata": {},
   "outputs": [],
   "source": [
    "# for drawing circles on\n",
    "circles_im = np.copy(image)\n",
    "\n",
    "## TODO: use HoughCircles to detect circles\n",
    "# right now there are too many, large circles being detected\n",
    "# try changing the value of maxRadius, minRadius, and minDist\n",
    "circles = cv2.HoughCircles(gray_blur, cv2.HOUGH_GRADIENT, 1, \n",
    "                           minDist=45,\n",
    "                           param1=70,\n",
    "                           param2=11,\n",
    "                           minRadius=20,\n",
    "                           maxRadius=40)\n",
    "\n",
    "# convert circles into expected type\n",
    "circles = np.uint16(np.around(circles))\n",
    "# draw each one\n",
    "for i in circles[0,:]:\n",
    "    # draw the outer circle\n",
    "    cv2.circle(circles_im,(i[0],i[1]),i[2],(0,255,0),2)\n",
    "    # draw the center of the circle\n",
    "    cv2.circle(circles_im,(i[0],i[1]),2,(0,0,255),3)\n",
    "    \n",
    "plt.imshow(circles_im)\n",
    "\n",
    "print('Circles shape: ', circles.shape)\n",
    "    "
   ]
  }
 ],
 "metadata": {
  "kernelspec": {
   "display_name": "Python 3",
   "language": "python",
   "name": "python3"
  },
  "language_info": {
   "codemirror_mode": {
    "name": "ipython",
    "version": 3
   },
   "file_extension": ".py",
   "mimetype": "text/x-python",
   "name": "python",
   "nbconvert_exporter": "python",
   "pygments_lexer": "ipython3",
   "version": "3.6.3"
  }
 },
 "nbformat": 4,
 "nbformat_minor": 1
}
